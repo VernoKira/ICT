{
 "cells": [
  {
   "cell_type": "markdown",
   "metadata": {},
   "source": [
    "LECTURE 9 : MACHINE LEARNING\n",
    "-ML \n",
    "    a subseet of all that includes abstruse statistitcal techniques that enable machines to improve at tasks with exp. the category includes deep learning\n",
    "\n",
    "    -ML system learn how to combine input to predict useful prediction or never-seen data\n",
    "\n",
    "\n",
    "-VOCABULARY\n",
    "1. LABEL \n",
    "    * the thing we r predicting. FE:\n",
    "        -the price of the stock\n",
    "        -the kind of animal in the picture\n",
    "        -in a simple linear regression : y = a*x + b, the label is Y\n",
    "\n",
    "2. FEATURE\n",
    "    * the input variables/ it can be one or several features in ur model. FE:\n",
    "        -the pixels of an image\n",
    "        -in a simple linear regression : y = a*x + b, the feature is X\n",
    "\n",
    "\n",
    "EXAMPLE:\n",
    "House age(feat) \\\\\\\\ Total Rooms(feat) \\\\\\\\ House Price(label)\n",
    "\n",
    "12              \\\\\\\\        6        \\\\\\\\     200 000$\n",
    "\n",
    "\n",
    "3. MODEL \n",
    "    * the model is the system that define the relationship between the features and the label. HAS TWO PHASES:\n",
    "        -The training phase(learnin phase)\n",
    "        -The inference\n",
    "\n",
    "4. REGRESSION\n",
    "    * a type of model which predict contin values. FE:\n",
    "        -the temperature\n",
    "        -the priice of the stock market\n",
    "\n",
    "5. CLassification \n",
    "    *  a type of model which predict discrete values. FE:\n",
    "        - the animal on the picture\n",
    "        -the catefory of a mail9spam or not spam\n",
    "\n",
    "\n",
    "EXAMPLE:\n",
    "-Using ML to predict:\n",
    "    -the success of a movie in cinema\n",
    "    - the best nxt chess moves\n",
    "    -the future success of a student\n",
    "    \n",
    "\n",
    "THE LEARNING RATE\n",
    "-the LR is a \n",
    "\n",
    "\n",
    "-deep learning\n",
    "\n",
    "\n"
   ]
  },
  {
   "cell_type": "code",
   "execution_count": 1,
   "metadata": {},
   "outputs": [],
   "source": [
    "import numpy as np\n"
   ]
  },
  {
   "cell_type": "code",
   "execution_count": 5,
   "metadata": {},
   "outputs": [
    {
     "name": "stdout",
     "output_type": "stream",
     "text": [
      "[[1 2 3]\n",
      " [4 5 6]]\n",
      "--------------------\n",
      "([1, 2, 3], [4, 5, 6])\n"
     ]
    }
   ],
   "source": [
    "# create ur first 2 dimensionnal array\n",
    "l = ([1,2,3],[4,5,6])\n",
    "array = np.array([[1,2,3],[4,5,6]])\n",
    "print(array)\n",
    "print(\"-\"*20)\n",
    "print(l)"
   ]
  },
  {
   "cell_type": "code",
   "execution_count": 7,
   "metadata": {},
   "outputs": [
    {
     "name": "stdout",
     "output_type": "stream",
     "text": [
      "[55, 2, 3]\n",
      "[1, 2, 3]\n"
     ]
    }
   ],
   "source": [
    "#  copy, view\n",
    "list0 = [1,2,3]\n",
    "list1 = list0.copy()\n",
    "list1[0] =55\n",
    "print(list1)\n",
    "print(list0)"
   ]
  },
  {
   "cell_type": "code",
   "execution_count": 9,
   "metadata": {},
   "outputs": [
    {
     "name": "stdout",
     "output_type": "stream",
     "text": [
      "[ 1 50  3]\n",
      "[ 1 50  3]\n",
      "[    1 50000     3]\n"
     ]
    }
   ],
   "source": [
    "arr = np.array([1,2,3])\n",
    "arr0 = arr\n",
    "arr1  = arr0.view()\n",
    "arr2=arr0.copy()\n",
    "arr1[1]=50\n",
    "arr2[1]=50000\n",
    "print(arr0)\n",
    "print(arr1)\n",
    "print(arr2)\n"
   ]
  },
  {
   "cell_type": "code",
   "execution_count": 17,
   "metadata": {},
   "outputs": [
    {
     "name": "stdout",
     "output_type": "stream",
     "text": [
      "[[1]\n",
      " [2]\n",
      " [3]\n",
      " [4]\n",
      " [5]\n",
      " [6]]\n"
     ]
    }
   ],
   "source": [
    "# shape of an array\n",
    "array = np.array([1,2,3,4,5,6])\n",
    "print(array.reshape(6,1))"
   ]
  },
  {
   "cell_type": "code",
   "execution_count": 16,
   "metadata": {},
   "outputs": [
    {
     "name": "stdout",
     "output_type": "stream",
     "text": [
      "[[1 2]\n",
      " [3 4]\n",
      " [5 6]]\n"
     ]
    }
   ],
   "source": [
    "# shape of an array\n",
    "array = np.array([[1,2,3],[4,5,6]])\n",
    "print(array.reshape(3,2))"
   ]
  },
  {
   "cell_type": "code",
   "execution_count": 24,
   "metadata": {},
   "outputs": [
    {
     "name": "stdout",
     "output_type": "stream",
     "text": [
      "[[1 2]\n",
      " [3 4]\n",
      " [5 6]]\n"
     ]
    }
   ],
   "source": [
    "# shape of an array\n",
    "array = np.array([1,2,3,4,5,6])\n",
    "print(array.reshape(-1,2))"
   ]
  },
  {
   "cell_type": "code",
   "execution_count": 28,
   "metadata": {},
   "outputs": [
    {
     "name": "stdout",
     "output_type": "stream",
     "text": [
      "[[ 1  5]\n",
      " [ 9 31]\n",
      " [45 78]]\n"
     ]
    }
   ],
   "source": [
    "array= np.array([1,5,9,31,45,78])\n",
    "print(array.reshape(-1,2))"
   ]
  },
  {
   "cell_type": "code",
   "execution_count": 1,
   "metadata": {},
   "outputs": [
    {
     "ename": "AttributeError",
     "evalue": "'function' object has no attribute 'split'",
     "output_type": "error",
     "traceback": [
      "\u001b[1;31m---------------------------------------------------------------------------\u001b[0m",
      "\u001b[1;31mAttributeError\u001b[0m                            Traceback (most recent call last)",
      "\u001b[1;32mc:\\Users\\user\\Desktop\\ict\\lecture9.ipynb Ячейка 10\u001b[0m in \u001b[0;36m<cell line: 2>\u001b[1;34m()\u001b[0m\n\u001b[0;32m      <a href='vscode-notebook-cell:/c%3A/Users/user/Desktop/ict/lecture9.ipynb#X12sZmlsZQ%3D%3D?line=0'>1</a>\u001b[0m \u001b[39mimport\u001b[39;00m \u001b[39mnumpy\u001b[39;00m \u001b[39mas\u001b[39;00m \u001b[39mnp\u001b[39;00m;\n\u001b[1;32m----> <a href='vscode-notebook-cell:/c%3A/Users/user/Desktop/ict/lecture9.ipynb#X12sZmlsZQ%3D%3D?line=1'>2</a>\u001b[0m Input1 \u001b[39m=\u001b[39m \u001b[39minput\u001b[39;49m\u001b[39m.\u001b[39;49msplit()\n\u001b[0;32m      <a href='vscode-notebook-cell:/c%3A/Users/user/Desktop/ict/lecture9.ipynb#X12sZmlsZQ%3D%3D?line=2'>3</a>\u001b[0m Input2 \u001b[39m=\u001b[39m \u001b[39minput\u001b[39m\u001b[39m.\u001b[39msplit()\n\u001b[0;32m      <a href='vscode-notebook-cell:/c%3A/Users/user/Desktop/ict/lecture9.ipynb#X12sZmlsZQ%3D%3D?line=3'>4</a>\u001b[0m arr \u001b[39m=\u001b[39m np\u001b[39m.\u001b[39mc_[[Input1],[Input2]]\n",
      "\u001b[1;31mAttributeError\u001b[0m: 'function' object has no attribute 'split'"
     ]
    }
   ],
   "source": [
    "import numpy as np;\n",
    "Input1 = input.s\n",
    "Input2 = input.split()\n",
    "arr = np.c_[[Input1],[Input2]]\n",
    "print(arr.reshape((len(arr)/2),2))"
   ]
  }
 ],
 "metadata": {
  "kernelspec": {
   "display_name": "Python 3.10.4 64-bit",
   "language": "python",
   "name": "python3"
  },
  "language_info": {
   "codemirror_mode": {
    "name": "ipython",
    "version": 3
   },
   "file_extension": ".py",
   "mimetype": "text/x-python",
   "name": "python",
   "nbconvert_exporter": "python",
   "pygments_lexer": "ipython3",
   "version": "3.10.4"
  },
  "orig_nbformat": 4,
  "vscode": {
   "interpreter": {
    "hash": "fb4569285eef3a3450cb62085a5b1e0da4bce0af555edc33dcf29baf3acc1368"
   }
  }
 },
 "nbformat": 4,
 "nbformat_minor": 2
}
